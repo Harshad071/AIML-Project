{
  "cells": [
    {
      "cell_type": "code",
      "execution_count": null,
      "metadata": {
        "colab": {
          "base_uri": "https://localhost:8080/"
        },
        "id": "dAeFyGXbYmrJ",
        "outputId": "fa447fe2-fa5e-473b-c156-92b9b24d4ef2"
      },
      "outputs": [
        {
          "name": "stdout",
          "output_type": "stream",
          "text": [
            "Seasonal Crop Yield Comparison Accuracy: 0.5165058405281869\n",
            "Rainfall Impact on Yield Prediction MSE: 25924.087123958478\n",
            "Rainfall Impact on Yield Prediction R2: 0.967645035825908\n",
            "Optimal Fertilizer Prediction MSE: 189100716649262.25\n",
            "Optimal Fertilizer Prediction R2: 0.974364634501997\n",
            "State-based Yield Prediction MSE: 74883.98117000247\n",
            "State-based Yield Prediction R2: 0.9065398709553922\n",
            "All models have been saved in 'all_models.pkl'\n"
          ]
        }
      ],
      "source": [
        "import pandas as pd\n",
        "import pickle\n",
        "from sklearn.model_selection import train_test_split\n",
        "from sklearn.ensemble import RandomForestRegressor, RandomForestClassifier\n",
        "from sklearn.preprocessing import LabelEncoder\n",
        "from sklearn.metrics import mean_squared_error, r2_score\n",
        "import numpy as np\n",
        "\n",
        "# Load your dataset (replace with the correct file path)\n",
        "df = pd.read_csv('/content/crop_yield.csv')\n",
        "\n",
        "# Preprocess data: Encoding categorical features\n",
        "label_encoder = LabelEncoder()\n",
        "\n",
        "# Encode categorical features (Crop, State, Season)\n",
        "df['Crop'] = label_encoder.fit_transform(df['Crop'])\n",
        "df['State'] = label_encoder.fit_transform(df['State'])\n",
        "df['Season'] = label_encoder.fit_transform(df['Season'])\n",
        "\n",
        "# --- 1. Seasonal Crop Yield Comparison (Classification) ---\n",
        "# Target: Crop performance in different seasons (classification problem)\n",
        "X_seasonal = df[['Area', 'Production', 'Annual_Rainfall', 'Fertilizer', 'Pesticide', 'Season']]\n",
        "y_seasonal = df['Crop']  # Assuming 'Crop' is the target in this case\n",
        "\n",
        "# Train-test split\n",
        "X_train, X_test, y_train, y_test = train_test_split(X_seasonal, y_seasonal, test_size=0.2, random_state=42)\n",
        "\n",
        "# Train RandomForestClassifier\n",
        "seasonal_model = RandomForestClassifier()\n",
        "seasonal_model.fit(X_train, y_train)\n",
        "\n",
        "# Evaluate the model\n",
        "seasonal_preds = seasonal_model.predict(X_test)\n",
        "seasonal_accuracy = accuracy_score(y_test, seasonal_preds)\n",
        "print(f\"Seasonal Crop Yield Comparison Accuracy: {seasonal_accuracy}\")\n",
        "\n",
        "# --- 2. Rainfall Impact on Yield Prediction (Regression) ---\n",
        "# Target: Yield prediction based on rainfall (regression problem)\n",
        "X_rainfall = df[['Annual_Rainfall', 'Area', 'Fertilizer', 'Pesticide', 'Crop']]\n",
        "y_rainfall = df['Yield']\n",
        "\n",
        "# Train-test split\n",
        "X_train, X_test, y_train, y_test = train_test_split(X_rainfall, y_rainfall, test_size=0.2, random_state=42)\n",
        "\n",
        "# Train RandomForestRegressor\n",
        "rainfall_model = RandomForestRegressor()\n",
        "rainfall_model.fit(X_train, y_train)\n",
        "\n",
        "# Evaluate the model\n",
        "rainfall_preds = rainfall_model.predict(X_test)\n",
        "rainfall_mse = mean_squared_error(y_test, rainfall_preds)\n",
        "rainfall_r2 = r2_score(y_test, rainfall_preds)\n",
        "print(f\"Rainfall Impact on Yield Prediction MSE: {rainfall_mse}\")\n",
        "print(f\"Rainfall Impact on Yield Prediction R2: {rainfall_r2}\")\n",
        "\n",
        "# --- 3. Optimal Fertilizer and Pesticide Requirement Prediction (Regression) ---\n",
        "# Target: Fertilizer prediction (regression problem)\n",
        "X_fertilizer = df[['Crop', 'Area', 'Production', 'Annual_Rainfall', 'Season']]\n",
        "y_fertilizer = df['Fertilizer']\n",
        "\n",
        "# Train-test split\n",
        "X_train, X_test, y_train, y_test = train_test_split(X_fertilizer, y_fertilizer, test_size=0.2, random_state=42)\n",
        "\n",
        "# Train RandomForestRegressor\n",
        "fertilizer_model = RandomForestRegressor()\n",
        "fertilizer_model.fit(X_train, y_train)\n",
        "\n",
        "# Evaluate the model\n",
        "fertilizer_preds = fertilizer_model.predict(X_test)\n",
        "fertilizer_mse = mean_squared_error(y_test, fertilizer_preds)\n",
        "fertilizer_r2 = r2_score(y_test, fertilizer_preds)\n",
        "print(f\"Optimal Fertilizer Prediction MSE: {fertilizer_mse}\")\n",
        "print(f\"Optimal Fertilizer Prediction R2: {fertilizer_r2}\")\n",
        "\n",
        "# --- 4. State-based Yield Prediction (Regression) ---\n",
        "# Target: Yield prediction based on state (regression problem)\n",
        "X_state = df[['State', 'Area', 'Production', 'Annual_Rainfall', 'Fertilizer', 'Pesticide', 'Season']]\n",
        "y_state = df['Yield']\n",
        "\n",
        "# Train-test split\n",
        "X_train, X_test, y_train, y_test = train_test_split(X_state, y_state, test_size=0.2, random_state=42)\n",
        "\n",
        "# Train RandomForestRegressor\n",
        "state_model = RandomForestRegressor()\n",
        "state_model.fit(X_train, y_train)\n",
        "\n",
        "# Evaluate the model\n",
        "state_preds = state_model.predict(X_test)\n",
        "state_mse = mean_squared_error(y_test, state_preds)\n",
        "state_r2 = r2_score(y_test, state_preds)\n",
        "print(f\"State-based Yield Prediction MSE: {state_mse}\")\n",
        "print(f\"State-based Yield Prediction R2: {state_r2}\")\n",
        "\n",
        "# --- 5. Save All Models in One .pkl File ---\n",
        "# Store models in a dictionary\n",
        "models = {\n",
        "    'seasonal_classifier': seasonal_model,\n",
        "    'rainfall_regressor': rainfall_model,\n",
        "    'fertilizer_regressor': fertilizer_model,\n",
        "    'state_regressor': state_model\n",
        "}\n",
        "\n",
        "# Save the models dictionary to a .pkl file\n",
        "with open('all_models.pkl', 'wb') as f:\n",
        "    pickle.dump(models, f)\n",
        "\n",
        "print(\"All models have been saved in 'all_models.pkl'\")\n"
      ]
    },
    {
      "cell_type": "code",
      "execution_count": null,
      "metadata": {
        "id": "qr3x9OLaYnle"
      },
      "outputs": [],
      "source": []
    },
    {
      "cell_type": "code",
      "source": [],
      "metadata": {
        "id": "gdolq99cQcnW"
      },
      "execution_count": null,
      "outputs": []
    }
  ],
  "metadata": {
    "colab": {
      "provenance": []
    },
    "kernelspec": {
      "display_name": "Python 3",
      "name": "python3"
    },
    "language_info": {
      "name": "python"
    }
  },
  "nbformat": 4,
  "nbformat_minor": 0
}